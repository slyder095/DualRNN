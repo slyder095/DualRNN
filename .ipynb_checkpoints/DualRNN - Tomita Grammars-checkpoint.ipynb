{
 "cells": [
  {
   "cell_type": "markdown",
   "metadata": {},
   "source": [
    "This notebook has been done using Tensorflow 1.7"
   ]
  },
  {
   "cell_type": "code",
   "execution_count": null,
   "metadata": {
    "colab": {
     "base_uri": "https://localhost:8080/"
    },
    "executionInfo": {
     "elapsed": 6201,
     "status": "ok",
     "timestamp": 1630323449199,
     "user": {
      "displayName": "Slyder95",
      "photoUrl": "https://lh3.googleusercontent.com/a-/AOh14GgcgHBNp9rouRzEMcfJt9BDH5r0RwhyQDEZUkmuDg=s64",
      "userId": "03886169375924980674"
     },
     "user_tz": -120
    },
    "id": "F9gvdMAoN-jm",
    "outputId": "d9b4eaa8-42c0-4f7a-a510-f98f028f9024"
   },
   "outputs": [],
   "source": [
    "%tensorflow_version 1.x\n",
    "\n",
    "import numpy as np\n",
    "import sys\n",
    "\n",
    "import matplotlib.pyplot as plt\n",
    "import scipy.stats as stats\n",
    "\n",
    "import matplotlib.patches as mpatch\n",
    "\n",
    "import time\n",
    "import psutil\n",
    "\n",
    "import tensorflow as tf"
   ]
  },
  {
   "cell_type": "code",
   "execution_count": null,
   "metadata": {
    "executionInfo": {
     "elapsed": 2126,
     "status": "ok",
     "timestamp": 1630323481926,
     "user": {
      "displayName": "Slyder95",
      "photoUrl": "https://lh3.googleusercontent.com/a-/AOh14GgcgHBNp9rouRzEMcfJt9BDH5r0RwhyQDEZUkmuDg=s64",
      "userId": "03886169375924980674"
     },
     "user_tz": -120
    },
    "id": "FiZ1wyImOKBg"
   },
   "outputs": [],
   "source": [
    "import codes.rnn_tf as rnn_tf\n",
    "import codes.rnn_elman as rnn_elman # Con ruido\n",
    "import codes.rnn_xhcy as rnn_xhcy # Dual CPU + Mem (conectada a CPU)"
   ]
  },
  {
   "cell_type": "markdown",
   "metadata": {
    "id": "WPXD44QYN-jw"
   },
   "source": [
    "# Functions"
   ]
  },
  {
   "cell_type": "code",
   "execution_count": null,
   "metadata": {
    "executionInfo": {
     "elapsed": 7,
     "status": "ok",
     "timestamp": 1630323481927,
     "user": {
      "displayName": "Slyder95",
      "photoUrl": "https://lh3.googleusercontent.com/a-/AOh14GgcgHBNp9rouRzEMcfJt9BDH5r0RwhyQDEZUkmuDg=s64",
      "userId": "03886169375924980674"
     },
     "user_tz": -120
    },
    "id": "O829eWXGyVbI"
   },
   "outputs": [],
   "source": [
    "def automata_minimization(transition_matrix, final_states):\n",
    "\n",
    "  matrix_aux = np.concatenate((transition_matrix, final_states[:, None]), axis=1)\n",
    "  matrix_aux_unique = np.unique(matrix_aux, axis=0)\n",
    "  list_items = [[] for u in matrix_aux_unique]\n",
    "  for i, item in enumerate(matrix_aux):\n",
    "    index = np.argmax([(item == u).all() for u in matrix_aux_unique])\n",
    "    list_items[index].append(i)\n",
    "\n",
    "  def minimize(matrix, list_items):\n",
    "    len_list_items_ini = len(list_items)\n",
    "    \n",
    "    for item in list_items:\n",
    "      for n in item:\n",
    "        matrix[:, :-1][matrix[:, :-1] == n] = item[0]\n",
    "\n",
    "    matrix_aux_unique = np.unique(matrix_aux, axis=0)\n",
    "    list_items = [[] for u in matrix]\n",
    "    for i, item in enumerate(matrix_aux):\n",
    "      index = np.argmax([(item == u).all() for u in matrix_aux_unique])\n",
    "      list_items[index].append(i)\n",
    "\n",
    "    list_items = list_items[:len(matrix_aux_unique)]\n",
    "\n",
    "\n",
    "    len_list_items_fin = len(list_items)\n",
    "\n",
    "    if len_list_items_ini > len_list_items_fin:\n",
    "      return minimize(matrix, list_items)\n",
    "    else:\n",
    "      return matrix_aux_unique.astype(int), [item[0] for item in list_items]\n",
    "\n",
    "  return minimize(matrix_aux, list_items)"
   ]
  },
  {
   "cell_type": "markdown",
   "metadata": {
    "id": "a7k_qDqdN-jw"
   },
   "source": [
    "# Run"
   ]
  },
  {
   "cell_type": "code",
   "execution_count": null,
   "metadata": {
    "executionInfo": {
     "elapsed": 7,
     "status": "ok",
     "timestamp": 1630323481928,
     "user": {
      "displayName": "Slyder95",
      "photoUrl": "https://lh3.googleusercontent.com/a-/AOh14GgcgHBNp9rouRzEMcfJt9BDH5r0RwhyQDEZUkmuDg=s64",
      "userId": "03886169375924980674"
     },
     "user_tz": -120
    },
    "id": "ZEJkUJEhN-jx"
   },
   "outputs": [],
   "source": [
    "# Posible values: BxA, paridad, tomita1, tomita2, tomita3, tomita4, tomita5, tomita6, tomita7\n",
    "\n",
    "problema = \"BxA\"\n",
    "\n",
    "input_file = \"files/train/\" + problema + \"_train_x.txt\"\n",
    "output_file = \"files/train/\" + problema + \"_train_y.txt\"\n",
    "test_largas_input = \"files/test/\" + problema + \"_cadenasLargas_x.txt\"\n",
    "test_largas_output = \"files/test/\" + problema + \"_cadenasLargas_y.txt\"\n",
    "test_extremo_muchasA_input = \"files/test/\" + problema + \"_extremo_muchasA_x.txt\"\n",
    "test_extremo_muchasA_output = \"files/test/\" + problema + \"_extremo_muchasA_y.txt\"\n",
    "test_extremo_muchasB_input = \"files/test/\" + problema + \"_extremo_muchasB_x.txt\"\n",
    "test_extremo_muchasB_output = \"files/test/\" + problema + \"_extremo_muchasB_y.txt\"\n",
    "test_grande_input = \"files/test/\" + problema + \"_testGrande_x.txt\"\n",
    "test_grande_output = \"files/test/\" + problema + \"_testGrande_y.txt\"\n",
    "\n",
    "hidden_size = 20\n",
    "cpu_size = 10\n",
    "seq_len = 25 # 25\n",
    "\n",
    "num_batches = 10\n",
    "noise_level = 0.\n",
    "learning_rate = 1e-2\n",
    "l1reg = 0.\n",
    "shock = 0.\n",
    "\n",
    "symbols = ['$', 'a', 'b']"
   ]
  },
  {
   "cell_type": "code",
   "execution_count": null,
   "metadata": {
    "executionInfo": {
     "elapsed": 1579,
     "status": "ok",
     "timestamp": 1630323483501,
     "user": {
      "displayName": "Slyder95",
      "photoUrl": "https://lh3.googleusercontent.com/a-/AOh14GgcgHBNp9rouRzEMcfJt9BDH5r0RwhyQDEZUkmuDg=s64",
      "userId": "03886169375924980674"
     },
     "user_tz": -120
    },
    "id": "Hu85WBaxN-jx"
   },
   "outputs": [],
   "source": [
    "data_dic, dim_i, dim_o, _ = rnn_tf.data_transform_many_to_many(num_batches, \n",
    "                                                   seq_len, \n",
    "                                                   input_file=input_file, \n",
    "                                                   output_file=output_file,\n",
    "                                                   chars_x = symbols,\n",
    "                                                   chars_y = ['0', '1'],\n",
    "                                                   longitud=1000000000)\n",
    "\n",
    "dataset_x_train = data_dic['dataset_x'] \n",
    "dataset_y_train = data_dic['dataset_y']"
   ]
  },
  {
   "cell_type": "markdown",
   "metadata": {
    "id": "U_Hj16SLN-jy"
   },
   "source": [
    "## RNN Elman"
   ]
  },
  {
   "cell_type": "code",
   "execution_count": null,
   "metadata": {
    "colab": {
     "base_uri": "https://localhost:8080/"
    },
    "executionInfo": {
     "elapsed": 3170,
     "status": "ok",
     "timestamp": 1630323486650,
     "user": {
      "displayName": "Slyder95",
      "photoUrl": "https://lh3.googleusercontent.com/a-/AOh14GgcgHBNp9rouRzEMcfJt9BDH5r0RwhyQDEZUkmuDg=s64",
      "userId": "03886169375924980674"
     },
     "user_tz": -120
    },
    "id": "mHLPILshN-jz",
    "outputId": "dc539288-b59c-49d3-e2c9-3c1c22501ef4"
   },
   "outputs": [],
   "source": [
    "rnn = rnn_elman.rnn_elman_tf(dim_i, \n",
    "                             hidden_size,\n",
    "                             #cpu_size,\n",
    "                             dim_o,\n",
    "                             learning_rate,\n",
    "                             seq_len=seq_len,\n",
    "                             noise_level=noise_level,\n",
    "                             num_batches=num_batches,\n",
    "                             regularizationL1=l1reg, \n",
    "                             shock=shock,\n",
    "                             clipvalue=5.0,\n",
    "                             #optimizer_name='Adam',\n",
    "                             factor_inicializacion=0.5\n",
    "                             )"
   ]
  },
  {
   "cell_type": "code",
   "execution_count": null,
   "metadata": {
    "colab": {
     "base_uri": "https://localhost:8080/",
     "height": 1000
    },
    "executionInfo": {
     "elapsed": 84445,
     "status": "ok",
     "timestamp": 1630323571088,
     "user": {
      "displayName": "Slyder95",
      "photoUrl": "https://lh3.googleusercontent.com/a-/AOh14GgcgHBNp9rouRzEMcfJt9BDH5r0RwhyQDEZUkmuDg=s64",
      "userId": "03886169375924980674"
     },
     "user_tz": -120
    },
    "id": "Z8VWm2MIN-j1",
    "outputId": "310c5cc8-5c46-418c-88fb-741f2f48974e"
   },
   "outputs": [],
   "source": [
    "loss_grafica = rnn_tf.train(rnn, 100, dataset_x_train, dataset_y_train, \n",
    "                            write_tensorboard=False, \n",
    "                            ruido_progresivo=True,\n",
    "                            ruido_min = 1.0,\n",
    "                            ruido_max = 1.0,\n",
    "                            pendiente_ruido = 2.0,\n",
    "                            l1reg_mem_progresivo=True,\n",
    "                            l1reg_mem_min = 0.1,\n",
    "                            l1reg_mem_max = 0.1,\n",
    "                            pendiente_l1reg_mem = 10.0,\n",
    "                            l1reg_cpu_progresivo=True,\n",
    "                            l1reg_cpu_min = 0.0,\n",
    "                            l1reg_cpu_max = 0.0,\n",
    "                            pendiente_l1reg_cpu = 1.0);"
   ]
  },
  {
   "cell_type": "code",
   "execution_count": null,
   "metadata": {
    "colab": {
     "base_uri": "https://localhost:8080/",
     "height": 282
    },
    "executionInfo": {
     "elapsed": 464,
     "status": "ok",
     "timestamp": 1630323571544,
     "user": {
      "displayName": "Slyder95",
      "photoUrl": "https://lh3.googleusercontent.com/a-/AOh14GgcgHBNp9rouRzEMcfJt9BDH5r0RwhyQDEZUkmuDg=s64",
      "userId": "03886169375924980674"
     },
     "user_tz": -120
    },
    "id": "wz5k537kQPNO",
    "outputId": "baedd5f2-b483-478f-99c2-087ddc4edf51"
   },
   "outputs": [],
   "source": [
    "plt.plot(loss_grafica, '-')"
   ]
  },
  {
   "cell_type": "code",
   "execution_count": null,
   "metadata": {
    "colab": {
     "base_uri": "https://localhost:8080/"
    },
    "executionInfo": {
     "elapsed": 13691,
     "status": "ok",
     "timestamp": 1630323585230,
     "user": {
      "displayName": "Slyder95",
      "photoUrl": "https://lh3.googleusercontent.com/a-/AOh14GgcgHBNp9rouRzEMcfJt9BDH5r0RwhyQDEZUkmuDg=s64",
      "userId": "03886169375924980674"
     },
     "user_tz": -120
    },
    "id": "Fo_K6qkhRLLJ",
    "outputId": "598e0735-ac1f-4c93-c32c-237ec2e6c73c"
   },
   "outputs": [],
   "source": [
    "data_dic, dim_i, dim_o, _ = rnn_tf.data_transform_many_to_many(1, \n",
    "                                                   seq_len, \n",
    "                                                   input_file=input_file, \n",
    "                                                   output_file=output_file,\n",
    "                                                   chars_x = symbols,\n",
    "                                                   chars_y = ['0', '1'],\n",
    "                                                   longitud = 100000000)\n",
    "dataset_x_train, dataset_y_train = data_dic['dataset_x'], data_dic['dataset_y']\n",
    "\n",
    "data_dic, _, _, _ = rnn_tf.data_transform_many_to_many(1, \n",
    "                                         seq_len,\n",
    "                                         input_file=test_largas_input, \n",
    "                                         output_file=test_largas_output,\n",
    "                                         chars_x = symbols,\n",
    "                                         chars_y = ['0', '1'],\n",
    "                                         longitud = 100000000)\n",
    "dataset_x_long, dataset_y_long = data_dic['dataset_x'], data_dic['dataset_y']\n",
    "\n",
    "test_largas2_input = \"files/test/\" + problema + \"_cadenasLargas2_x.txt\"\n",
    "test_largas2_output = \"files/test/\" + problema + \"_cadenasLargas2_y.txt\"\n",
    "\n",
    "\n",
    "data_dic, _, _, _ = rnn_tf.data_transform_many_to_many(1,\n",
    "                                           seq_len,\n",
    "                                           input_file=test_extremo_muchasA_input, \n",
    "                                           output_file=test_extremo_muchasA_output,\n",
    "                                           chars_x = symbols,\n",
    "                                           chars_y = ['0', '1'],\n",
    "                                           longitud = 100000000)\n",
    "dataset_x_allAs, dataset_y_allAs = data_dic['dataset_x'], data_dic['dataset_y']\n",
    "\n",
    "data_dic, _, _, _ = rnn_tf.data_transform_many_to_many(1,\n",
    "                                           seq_len,\n",
    "                                           input_file=test_extremo_muchasB_input, \n",
    "                                           output_file=test_extremo_muchasB_output,\n",
    "                                           chars_x = symbols,\n",
    "                                           chars_y = ['0', '1'],\n",
    "                                           longitud = 100000000)\n",
    "dataset_x_allBs, dataset_y_allBs = data_dic['dataset_x'], data_dic['dataset_y']\n",
    "\n",
    "\n",
    "target, pred, porcentaje_acierto = rnn_tf.test(rnn, dataset_x_train, dataset_y_train)\n",
    "print (\"TEST TRAIN: \" + str(porcentaje_acierto) + \"% accuracy\")\n",
    "prediccion, esperado, porcentaje_acierto = rnn_tf.test(rnn, dataset_x_long, dataset_y_long)\n",
    "print (\"TEST LONG: \" + str(porcentaje_acierto) + \"% accuracy\")\n",
    "prediccion, esperado, porcentaje_acierto = rnn_tf.test(rnn, dataset_x_allAs, dataset_y_allAs)\n",
    "print (\"TEST EXTREMO A: \" + str(porcentaje_acierto) + \"% accuracy\")\n",
    "prediccion, esperado, porcentaje_acierto = rnn_tf.test(rnn, dataset_x_allBs, dataset_y_allBs)\n",
    "print (\"TEST EXTREMO B: \" + str(porcentaje_acierto) + \"% accuracy\")"
   ]
  },
  {
   "cell_type": "markdown",
   "metadata": {
    "id": "a08e1hefUx26"
   },
   "source": [
    "## Dual RNN"
   ]
  },
  {
   "cell_type": "code",
   "execution_count": null,
   "metadata": {
    "executionInfo": {
     "elapsed": 335,
     "status": "ok",
     "timestamp": 1630323585559,
     "user": {
      "displayName": "Slyder95",
      "photoUrl": "https://lh3.googleusercontent.com/a-/AOh14GgcgHBNp9rouRzEMcfJt9BDH5r0RwhyQDEZUkmuDg=s64",
      "userId": "03886169375924980674"
     },
     "user_tz": -120
    },
    "id": "LQ-kGv0YtC9n"
   },
   "outputs": [],
   "source": [
    "data_dic, dim_i, dim_o, _ = rnn_tf.data_transform_many_to_many(num_batches, \n",
    "                                                   seq_len, \n",
    "                                                   input_file=input_file, \n",
    "                                                   output_file=output_file,\n",
    "                                                   chars_x = symbols,\n",
    "                                                   chars_y = ['0', '1'],\n",
    "                                                   longitud=1000000000)\n",
    "\n",
    "dataset_x_train = data_dic['dataset_x'] \n",
    "dataset_y_train = data_dic['dataset_y']"
   ]
  },
  {
   "cell_type": "code",
   "execution_count": null,
   "metadata": {
    "colab": {
     "base_uri": "https://localhost:8080/"
    },
    "executionInfo": {
     "elapsed": 3523,
     "status": "ok",
     "timestamp": 1630323589077,
     "user": {
      "displayName": "Slyder95",
      "photoUrl": "https://lh3.googleusercontent.com/a-/AOh14GgcgHBNp9rouRzEMcfJt9BDH5r0RwhyQDEZUkmuDg=s64",
      "userId": "03886169375924980674"
     },
     "user_tz": -120
    },
    "id": "R5CgtUzgUzAO",
    "outputId": "a0fc4765-c18b-45be-b0d0-7226f6c3ff12"
   },
   "outputs": [],
   "source": [
    "rnn = rnn_xhcy.rnn_xhcy(dim_i, \n",
    "                        hidden_size,\n",
    "                        cpu_size,\n",
    "                        dim_o,\n",
    "                        learning_rate,\n",
    "                        seq_len=seq_len,\n",
    "                        noise_level=noise_level,\n",
    "                        num_batches=num_batches,\n",
    "                        regularizationL1=l1reg, \n",
    "                        shock=shock,\n",
    "                        clipvalue=5.0,\n",
    "                        #optimizer_name='Adam',\n",
    "                        factor_inicializacion=0.5\n",
    "                        )"
   ]
  },
  {
   "cell_type": "code",
   "execution_count": null,
   "metadata": {
    "colab": {
     "base_uri": "https://localhost:8080/",
     "height": 1000
    },
    "executionInfo": {
     "elapsed": 98670,
     "status": "ok",
     "timestamp": 1630323687716,
     "user": {
      "displayName": "Slyder95",
      "photoUrl": "https://lh3.googleusercontent.com/a-/AOh14GgcgHBNp9rouRzEMcfJt9BDH5r0RwhyQDEZUkmuDg=s64",
      "userId": "03886169375924980674"
     },
     "user_tz": -120
    },
    "id": "Z10ZsN7IU8Im",
    "outputId": "81f007d9-e3f9-46e5-bb96-24b8f211aa7a"
   },
   "outputs": [],
   "source": [
    "loss_grafica = rnn_tf.train(rnn, 100, dataset_x_train, dataset_y_train, \n",
    "                            write_tensorboard=False, \n",
    "                            ruido_progresivo=True,\n",
    "                            ruido_min = 1.0,\n",
    "                            ruido_max = 1.0,\n",
    "                            pendiente_ruido = 2.0,\n",
    "                            l1reg_mem_progresivo=True,\n",
    "                            l1reg_mem_min = 0.1,\n",
    "                            l1reg_mem_max = 0.1,\n",
    "                            pendiente_l1reg_mem = 10.0,\n",
    "                            l1reg_cpu_progresivo=True,\n",
    "                            l1reg_cpu_min = 0.0,\n",
    "                            l1reg_cpu_max = 0.0,\n",
    "                            pendiente_l1reg_cpu = 1.0);"
   ]
  },
  {
   "cell_type": "code",
   "execution_count": null,
   "metadata": {
    "colab": {
     "base_uri": "https://localhost:8080/",
     "height": 282
    },
    "executionInfo": {
     "elapsed": 480,
     "status": "ok",
     "timestamp": 1630323688186,
     "user": {
      "displayName": "Slyder95",
      "photoUrl": "https://lh3.googleusercontent.com/a-/AOh14GgcgHBNp9rouRzEMcfJt9BDH5r0RwhyQDEZUkmuDg=s64",
      "userId": "03886169375924980674"
     },
     "user_tz": -120
    },
    "id": "yrcYloKPVKlX",
    "outputId": "165d7e51-6740-4964-c67b-e2d6fb66ba2e"
   },
   "outputs": [],
   "source": [
    "plt.plot(loss_grafica, '-')"
   ]
  },
  {
   "cell_type": "code",
   "execution_count": null,
   "metadata": {
    "colab": {
     "base_uri": "https://localhost:8080/"
    },
    "executionInfo": {
     "elapsed": 10943,
     "status": "ok",
     "timestamp": 1630323699122,
     "user": {
      "displayName": "Slyder95",
      "photoUrl": "https://lh3.googleusercontent.com/a-/AOh14GgcgHBNp9rouRzEMcfJt9BDH5r0RwhyQDEZUkmuDg=s64",
      "userId": "03886169375924980674"
     },
     "user_tz": -120
    },
    "id": "MFLZH3y4W_gA",
    "outputId": "7d982f74-76e9-43fa-d1b9-5f95ed126a29"
   },
   "outputs": [],
   "source": [
    "data_dic, dim_i, dim_o, _ = rnn_tf.data_transform_many_to_many(1, \n",
    "                                                   seq_len, \n",
    "                                                   input_file=input_file, \n",
    "                                                   output_file=output_file,\n",
    "                                                   chars_x = symbols,\n",
    "                                                   chars_y = ['0', '1'],\n",
    "                                                   longitud = 100000000)\n",
    "dataset_x_train, dataset_y_train = data_dic['dataset_x'], data_dic['dataset_y']\n",
    "\n",
    "data_dic, _, _, _ = rnn_tf.data_transform_many_to_many(1, \n",
    "                                         seq_len,\n",
    "                                         input_file=test_largas_input, \n",
    "                                         output_file=test_largas_output,\n",
    "                                         chars_x = symbols,\n",
    "                                         chars_y = ['0', '1'],\n",
    "                                         longitud = 100000000)\n",
    "dataset_x_long, dataset_y_long = data_dic['dataset_x'], data_dic['dataset_y']\n",
    "\n",
    "test_largas2_input = \"files/test/\" + problema + \"_cadenasLargas2_x.txt\"\n",
    "test_largas2_output = \"files/test/\" + problema + \"_cadenasLargas2_y.txt\"\n",
    "\n",
    "\n",
    "data_dic, _, _, _ = rnn_tf.data_transform_many_to_many(1,\n",
    "                                           seq_len,\n",
    "                                           input_file=test_extremo_muchasA_input, \n",
    "                                           output_file=test_extremo_muchasA_output,\n",
    "                                           chars_x = symbols,\n",
    "                                           chars_y = ['0', '1'],\n",
    "                                           longitud = 100000000)\n",
    "dataset_x_allAs, dataset_y_allAs = data_dic['dataset_x'], data_dic['dataset_y']\n",
    "\n",
    "data_dic, _, _, _ = rnn_tf.data_transform_many_to_many(1,\n",
    "                                           seq_len,\n",
    "                                           input_file=test_extremo_muchasB_input, \n",
    "                                           output_file=test_extremo_muchasB_output,\n",
    "                                           chars_x = symbols,\n",
    "                                           chars_y = ['0', '1'],\n",
    "                                           longitud = 100000000)\n",
    "dataset_x_allBs, dataset_y_allBs = data_dic['dataset_x'], data_dic['dataset_y']\n",
    "\n",
    "\n",
    "target, pred, porcentaje_acierto = rnn_tf.test(rnn, dataset_x_train, dataset_y_train)\n",
    "print (\"TEST TRAIN: \" + str(porcentaje_acierto) + \"% accuracy\")\n",
    "prediccion, esperado, porcentaje_acierto = rnn_tf.test(rnn, dataset_x_long, dataset_y_long)\n",
    "print (\"TEST LONG: \" + str(porcentaje_acierto) + \"% accuracy\")\n",
    "prediccion, esperado, porcentaje_acierto = rnn_tf.test(rnn, dataset_x_allAs, dataset_y_allAs)\n",
    "print (\"TEST EXTREMO A: \" + str(porcentaje_acierto) + \"% accuracy\")\n",
    "prediccion, esperado, porcentaje_acierto = rnn_tf.test(rnn, dataset_x_allBs, dataset_y_allBs)\n",
    "print (\"TEST EXTREMO B: \" + str(porcentaje_acierto) + \"% accuracy\")"
   ]
  },
  {
   "cell_type": "code",
   "execution_count": null,
   "metadata": {
    "executionInfo": {
     "elapsed": 11,
     "status": "ok",
     "timestamp": 1630323699124,
     "user": {
      "displayName": "Slyder95",
      "photoUrl": "https://lh3.googleusercontent.com/a-/AOh14GgcgHBNp9rouRzEMcfJt9BDH5r0RwhyQDEZUkmuDg=s64",
      "userId": "03886169375924980674"
     },
     "user_tz": -120
    },
    "id": "PVaUVTqrA_wC"
   },
   "outputs": [],
   "source": []
  }
 ],
 "metadata": {
  "colab": {
   "collapsed_sections": [],
   "name": "DualRNN - Tomita Grammars.ipynb",
   "provenance": [],
   "toc_visible": true
  },
  "kernelspec": {
   "display_name": "Python 3",
   "language": "python",
   "name": "python3"
  },
  "language_info": {
   "codemirror_mode": {
    "name": "ipython",
    "version": 3
   },
   "file_extension": ".py",
   "mimetype": "text/x-python",
   "name": "python",
   "nbconvert_exporter": "python",
   "pygments_lexer": "ipython3",
   "version": "3.8.5"
  }
 },
 "nbformat": 4,
 "nbformat_minor": 1
}
