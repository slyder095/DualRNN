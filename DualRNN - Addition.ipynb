{
 "cells": [
  {
   "cell_type": "markdown",
   "metadata": {},
   "source": [
    "This notebook has been done using Tensorflow 1.7"
   ]
  },
  {
   "cell_type": "code",
   "execution_count": null,
   "metadata": {
    "colab": {
     "base_uri": "https://localhost:8080/"
    },
    "executionInfo": {
     "elapsed": 37799,
     "status": "ok",
     "timestamp": 1630323763894,
     "user": {
      "displayName": "Slyder95",
      "photoUrl": "https://lh3.googleusercontent.com/a-/AOh14GgcgHBNp9rouRzEMcfJt9BDH5r0RwhyQDEZUkmuDg=s64",
      "userId": "03886169375924980674"
     },
     "user_tz": -120
    },
    "id": "_Q39ICBocjR4",
    "outputId": "b3f8379f-b6bd-409b-8c87-5f1c14946eff"
   },
   "outputs": [],
   "source": [
    "%tensorflow_version 1.x\n",
    "\n",
    "import numpy as np\n",
    "\n",
    "import matplotlib.pyplot as plt\n",
    "import scipy.stats as stats\n",
    "\n",
    "import codes.rnn_tf as rnn_tf\n",
    "import codes.rnn_elman as rnn_elman # Con ruido\n",
    "import codes.rnn_xhcy as rnn_xhcy # Dual CPU + Mem (conectada a CPU)\n",
    "\n",
    "import matplotlib.patches as mpatch\n",
    "\n",
    "import time\n",
    "import psutil"
   ]
  },
  {
   "cell_type": "markdown",
   "metadata": {
    "id": "EuabNweicjSF"
   },
   "source": [
    "# Run"
   ]
  },
  {
   "cell_type": "code",
   "execution_count": null,
   "metadata": {
    "executionInfo": {
     "elapsed": 15,
     "status": "ok",
     "timestamp": 1630323763900,
     "user": {
      "displayName": "Slyder95",
      "photoUrl": "https://lh3.googleusercontent.com/a-/AOh14GgcgHBNp9rouRzEMcfJt9BDH5r0RwhyQDEZUkmuDg=s64",
      "userId": "03886169375924980674"
     },
     "user_tz": -120
    },
    "id": "39AJdqNmcjSF"
   },
   "outputs": [],
   "source": [
    "# Posible values: SUMA, SUMA10, SUMA4, SUMA3\n",
    "\n",
    "problema = \"SUMA10\"\n",
    "\n",
    "\n",
    "input_file_s0 = 'files/train/' + problema + '_sumando_0.txt'\n",
    "input_file_s1 = 'files/train/' + problema + '_sumando_1.txt'\n",
    "output_file = 'files/train/' + problema + '_y.txt'"
   ]
  },
  {
   "cell_type": "markdown",
   "metadata": {
    "id": "PVBtSXX7cjSH"
   },
   "source": [
    "## Elman RNN"
   ]
  },
  {
   "cell_type": "code",
   "execution_count": null,
   "metadata": {
    "executionInfo": {
     "elapsed": 13,
     "status": "ok",
     "timestamp": 1630323763901,
     "user": {
      "displayName": "Slyder95",
      "photoUrl": "https://lh3.googleusercontent.com/a-/AOh14GgcgHBNp9rouRzEMcfJt9BDH5r0RwhyQDEZUkmuDg=s64",
      "userId": "03886169375924980674"
     },
     "user_tz": -120
    },
    "id": "5ckpfHn5cjSH"
   },
   "outputs": [],
   "source": [
    "hidden_size = 10\n",
    "cpu_size = 20\n",
    "seq_len = 25\n",
    "\n",
    "num_batches = 10\n",
    "noise_level = 0.4\n",
    "learning_rate = 1e-2\n",
    "l1reg = 1e-4\n",
    "shock = 0.5\n",
    "\n",
    "symbols = ['$', 'a', 'b']"
   ]
  },
  {
   "cell_type": "code",
   "execution_count": null,
   "metadata": {
    "executionInfo": {
     "elapsed": 8937,
     "status": "ok",
     "timestamp": 1630323772828,
     "user": {
      "displayName": "Slyder95",
      "photoUrl": "https://lh3.googleusercontent.com/a-/AOh14GgcgHBNp9rouRzEMcfJt9BDH5r0RwhyQDEZUkmuDg=s64",
      "userId": "03886169375924980674"
     },
     "user_tz": -120
    },
    "id": "BmHBi41_cjSI"
   },
   "outputs": [],
   "source": [
    "base = 10\n",
    "\n",
    "ficheros = [input_file_s0, input_file_s1]\n",
    "\n",
    "data_dic, dim_i, dim_o, _ = rnn_tf.data_transform_multiple_inputs_many_to_many(num_batches,\n",
    "                                                                  seq_len,\n",
    "                                                                  input_files=ficheros,\n",
    "                                                                  output_file=output_file,\n",
    "                                                                  chars_x = [str(j) for j in range(base)]+['$'],\n",
    "                                                                  chars_y = [str(j) for j in range(base)],\n",
    "                                                                  longitud = 1000000)\n",
    "dataset_x_train = data_dic['dataset_x']\n",
    "dataset_y_train = data_dic['dataset_y']"
   ]
  },
  {
   "cell_type": "code",
   "execution_count": null,
   "metadata": {
    "colab": {
     "base_uri": "https://localhost:8080/"
    },
    "executionInfo": {
     "elapsed": 3668,
     "status": "ok",
     "timestamp": 1630323776490,
     "user": {
      "displayName": "Slyder95",
      "photoUrl": "https://lh3.googleusercontent.com/a-/AOh14GgcgHBNp9rouRzEMcfJt9BDH5r0RwhyQDEZUkmuDg=s64",
      "userId": "03886169375924980674"
     },
     "user_tz": -120
    },
    "id": "VVdYy3eycjSI",
    "outputId": "e5b85b4d-116d-4884-b250-d3cbc35021ef"
   },
   "outputs": [],
   "source": [
    "# ELMAN + ruido (ICANN'19)\n",
    "rnn = rnn_elman.rnn_elman_tf(dim_i, \n",
    "                             hidden_size,\n",
    "                             dim_o,\n",
    "                             learning_rate,\n",
    "                             seq_len=seq_len,\n",
    "                             noise_level=noise_level,\n",
    "                             num_batches=num_batches,\n",
    "                             regularizationL1=l1reg, \n",
    "                             shock=shock,\n",
    "                             clipvalue=5.0,\n",
    "                             #optimizer_name='Adam',\n",
    "                             factor_inicializacion=0.01\n",
    "                            )"
   ]
  },
  {
   "cell_type": "code",
   "execution_count": null,
   "metadata": {
    "colab": {
     "base_uri": "https://localhost:8080/",
     "height": 1000
    },
    "executionInfo": {
     "elapsed": 442958,
     "status": "ok",
     "timestamp": 1630324219444,
     "user": {
      "displayName": "Slyder95",
      "photoUrl": "https://lh3.googleusercontent.com/a-/AOh14GgcgHBNp9rouRzEMcfJt9BDH5r0RwhyQDEZUkmuDg=s64",
      "userId": "03886169375924980674"
     },
     "user_tz": -120
    },
    "id": "fRHMPhSFcjSK",
    "outputId": "8a835ce6-ee63-4dfd-a047-2214de015bb2"
   },
   "outputs": [],
   "source": [
    "rnn_tf.train(rnn, 50, dataset_x_train, dataset_y_train, \n",
    "             write_tensorboard=False, \n",
    "             ruido_progresivo=True, \n",
    "             ruido_max = 1.0,\n",
    "             pendiente_ruido = 2.0,\n",
    "             l1reg_mem_progresivo=True,\n",
    "             l1reg_mem_max = 1e-1,\n",
    "             pendiente_l1reg_mem = 10.0);"
   ]
  },
  {
   "cell_type": "code",
   "execution_count": null,
   "metadata": {
    "colab": {
     "base_uri": "https://localhost:8080/"
    },
    "executionInfo": {
     "elapsed": 53929,
     "status": "ok",
     "timestamp": 1630324273363,
     "user": {
      "displayName": "Slyder95",
      "photoUrl": "https://lh3.googleusercontent.com/a-/AOh14GgcgHBNp9rouRzEMcfJt9BDH5r0RwhyQDEZUkmuDg=s64",
      "userId": "03886169375924980674"
     },
     "user_tz": -120
    },
    "id": "Q2VxlGMdcjSK",
    "outputId": "8dd03a0a-d937-4635-b80b-951eb5ebe5b2"
   },
   "outputs": [],
   "source": [
    "ficheros = [input_file_s0, input_file_s1]\n",
    "\n",
    "data_dic, dim_i, dim_o, _ = rnn_tf.data_transform_multiple_inputs_many_to_many(1,\n",
    "                                                                  seq_len,\n",
    "                                                                  input_files=ficheros,\n",
    "                                                                  output_file=output_file,\n",
    "                                                                  chars_x = [str(j) for j in range(base)]+['$'],\n",
    "                                                                  chars_y = [str(j) for j in range(base)],\n",
    "                                                                  longitud = 1000000000)\n",
    "dataset_x_test = data_dic['dataset_x']\n",
    "dataset_y_test = data_dic['dataset_y']\n",
    "\n",
    "target, pred, accuracy = rnn_tf.test(rnn, dataset_x_test, dataset_y_test)\n",
    "print (\"Test:\", accuracy, \"%\")"
   ]
  },
  {
   "cell_type": "markdown",
   "metadata": {
    "id": "yLRdEIgAcjSL"
   },
   "source": [
    "## Dual RNN"
   ]
  },
  {
   "cell_type": "code",
   "execution_count": null,
   "metadata": {
    "executionInfo": {
     "elapsed": 9,
     "status": "ok",
     "timestamp": 1630324273364,
     "user": {
      "displayName": "Slyder95",
      "photoUrl": "https://lh3.googleusercontent.com/a-/AOh14GgcgHBNp9rouRzEMcfJt9BDH5r0RwhyQDEZUkmuDg=s64",
      "userId": "03886169375924980674"
     },
     "user_tz": -120
    },
    "id": "6xvzHQR8cjSM"
   },
   "outputs": [],
   "source": [
    "hidden_size = 10\n",
    "cpu_size = 20\n",
    "seq_len = 25\n",
    "\n",
    "num_batches = 10\n",
    "noise_level = 0.0\n",
    "learning_rate = 1e-2\n",
    "l1reg = 0.0\n",
    "shock = 0.0\n",
    "\n",
    "symbols = ['$', 'a', 'b']"
   ]
  },
  {
   "cell_type": "code",
   "execution_count": null,
   "metadata": {
    "executionInfo": {
     "elapsed": 6563,
     "status": "ok",
     "timestamp": 1630324279921,
     "user": {
      "displayName": "Slyder95",
      "photoUrl": "https://lh3.googleusercontent.com/a-/AOh14GgcgHBNp9rouRzEMcfJt9BDH5r0RwhyQDEZUkmuDg=s64",
      "userId": "03886169375924980674"
     },
     "user_tz": -120
    },
    "id": "QmQXkp8PcjSN"
   },
   "outputs": [],
   "source": [
    "base = 10\n",
    "\n",
    "ficheros = [input_file_s0, input_file_s1]\n",
    "\n",
    "data_dic, dim_i, dim_o, _ = rnn_tf.data_transform_multiple_inputs_many_to_many(num_batches,\n",
    "                                                                  seq_len,\n",
    "                                                                  input_files=ficheros,\n",
    "                                                                  output_file=output_file,\n",
    "                                                                  chars_x = [str(j) for j in range(base)]+['$'],\n",
    "                                                                  chars_y = [str(j) for j in range(base)],\n",
    "                                                                  longitud = 1000000)\n",
    "dataset_x_train = data_dic['dataset_x']\n",
    "dataset_y_train = data_dic['dataset_y']"
   ]
  },
  {
   "cell_type": "code",
   "execution_count": null,
   "metadata": {
    "colab": {
     "base_uri": "https://localhost:8080/"
    },
    "executionInfo": {
     "elapsed": 3927,
     "status": "ok",
     "timestamp": 1630324283837,
     "user": {
      "displayName": "Slyder95",
      "photoUrl": "https://lh3.googleusercontent.com/a-/AOh14GgcgHBNp9rouRzEMcfJt9BDH5r0RwhyQDEZUkmuDg=s64",
      "userId": "03886169375924980674"
     },
     "user_tz": -120
    },
    "id": "WyiZIjFpcjSO",
    "outputId": "0d6a7963-eb2b-47a1-b9ee-d94e7163762a"
   },
   "outputs": [],
   "source": [
    "# DUAL - CPU + Mem (conectada a CPU)\n",
    "rnn = rnn_xhcy.rnn_xhcy(dim_i, \n",
    "                        hidden_size,\n",
    "                        cpu_size,\n",
    "                        dim_o,\n",
    "                        learning_rate,\n",
    "                        seq_len=seq_len,\n",
    "                        noise_level=noise_level,\n",
    "                        num_batches=num_batches,\n",
    "                        regularizationL1=l1reg, \n",
    "                        shock=shock,\n",
    "                        clipvalue=5.0,\n",
    "                        #optimizer_name='Adam',\n",
    "                        factor_inicializacion=0.01\n",
    "                       )"
   ]
  },
  {
   "cell_type": "code",
   "execution_count": null,
   "metadata": {
    "colab": {
     "base_uri": "https://localhost:8080/",
     "height": 1000
    },
    "executionInfo": {
     "elapsed": 543736,
     "status": "ok",
     "timestamp": 1630324827561,
     "user": {
      "displayName": "Slyder95",
      "photoUrl": "https://lh3.googleusercontent.com/a-/AOh14GgcgHBNp9rouRzEMcfJt9BDH5r0RwhyQDEZUkmuDg=s64",
      "userId": "03886169375924980674"
     },
     "user_tz": -120
    },
    "id": "dFnqc6recjSO",
    "outputId": "3e3eafdf-025d-469f-b944-6255a6052056"
   },
   "outputs": [],
   "source": [
    "rnn_tf.train(rnn, 50, dataset_x_train, dataset_y_train, \n",
    "             write_tensorboard=False, \n",
    "             ruido_progresivo=True, \n",
    "             ruido_max = 1.0,\n",
    "             pendiente_ruido = 2.0,\n",
    "             l1reg_mem_progresivo=True,\n",
    "             l1reg_mem_max = 1e-1,\n",
    "             pendiente_l1reg_mem = 10.0);"
   ]
  },
  {
   "cell_type": "code",
   "execution_count": null,
   "metadata": {
    "colab": {
     "base_uri": "https://localhost:8080/"
    },
    "executionInfo": {
     "elapsed": 57169,
     "status": "ok",
     "timestamp": 1630324884721,
     "user": {
      "displayName": "Slyder95",
      "photoUrl": "https://lh3.googleusercontent.com/a-/AOh14GgcgHBNp9rouRzEMcfJt9BDH5r0RwhyQDEZUkmuDg=s64",
      "userId": "03886169375924980674"
     },
     "user_tz": -120
    },
    "id": "nnPsp-I3cjSO",
    "outputId": "a540b20b-6195-4b13-d82a-c9dcc9f23a0f"
   },
   "outputs": [],
   "source": [
    "ficheros = [input_file_s0, input_file_s1]\n",
    "\n",
    "data_dic, dim_i, dim_o, _ = rnn_tf.data_transform_multiple_inputs_many_to_many(1,\n",
    "                                                                  seq_len,\n",
    "                                                                  input_files=ficheros,\n",
    "                                                                  output_file=output_file,\n",
    "                                                                  chars_x = [str(j) for j in range(base)]+['$'],\n",
    "                                                                  chars_y = [str(j) for j in range(base)],\n",
    "                                                                  longitud = 1000000000)\n",
    "dataset_x_test = data_dic['dataset_x']\n",
    "dataset_y_test = data_dic['dataset_y']\n",
    "\n",
    "target, pred, accuracy = rnn_tf.test(rnn, dataset_x_test, dataset_y_test)\n",
    "print (\"Test:\", accuracy, \"%\")"
   ]
  },
  {
   "cell_type": "markdown",
   "metadata": {
    "id": "MmMnqOp3cjSO"
   },
   "source": [
    "# Analysis"
   ]
  },
  {
   "cell_type": "code",
   "execution_count": null,
   "metadata": {
    "executionInfo": {
     "elapsed": 584,
     "status": "ok",
     "timestamp": 1630324885295,
     "user": {
      "displayName": "Slyder95",
      "photoUrl": "https://lh3.googleusercontent.com/a-/AOh14GgcgHBNp9rouRzEMcfJt9BDH5r0RwhyQDEZUkmuDg=s64",
      "userId": "03886169375924980674"
     },
     "user_tz": -120
    },
    "id": "Z-WD-fVocjSP"
   },
   "outputs": [],
   "source": [
    "f2 = [open(ficheros[i], 'r').read() for i in range(2)]\n",
    "tabla_combinaciones_sin_acarreo = np.ones((base+1, base+1), dtype=int)*(-1)\n",
    "tabla_combinaciones_con_acarreo = np.ones((base+1, base+1), dtype=int)*(-1)\n",
    "\n",
    "acarreo = 0\n",
    "for i, (s1_str, s2_str) in enumerate(zip([s for s in f2[0]], [s for s in f2[1]])):\n",
    "    try:\n",
    "        s1 = int(s1_str)\n",
    "        s2 = int(s2_str)\n",
    "    except:\n",
    "        s1 = -1\n",
    "        s2 = -1\n",
    "    \n",
    "    if acarreo == 0:\n",
    "        if tabla_combinaciones_sin_acarreo[s1][s2] == -1:\n",
    "            tabla_combinaciones_sin_acarreo[s1][s2] = i - 1\n",
    "    elif acarreo == 1:\n",
    "        if tabla_combinaciones_con_acarreo[s1][s2] == -1:\n",
    "            tabla_combinaciones_con_acarreo[s1][s2] = i - 1\n",
    "    \n",
    "    if s1 == -1: acarreo = 0\n",
    "    else: acarreo = (s1+s2+acarreo)/base"
   ]
  },
  {
   "cell_type": "code",
   "execution_count": null,
   "metadata": {
    "colab": {
     "base_uri": "https://localhost:8080/"
    },
    "executionInfo": {
     "elapsed": 9217,
     "status": "ok",
     "timestamp": 1630324894507,
     "user": {
      "displayName": "Slyder95",
      "photoUrl": "https://lh3.googleusercontent.com/a-/AOh14GgcgHBNp9rouRzEMcfJt9BDH5r0RwhyQDEZUkmuDg=s64",
      "userId": "03886169375924980674"
     },
     "user_tz": -120
    },
    "id": "Z3Ih6GOak0Ih",
    "outputId": "1bb2b832-6305-480a-e176-db562a75197d"
   },
   "outputs": [],
   "source": [
    "rnn.v_h_prev = np.zeros((hidden_size, 1))\n",
    "\n",
    "hs, ys, inputs, outputs, _, _, hzs, cs = rnn.estados(input_files = ficheros, \n",
    "                                                 output_file = output_file, \n",
    "                                                 longitud=50,\n",
    "                                                 chars_x = [str(j) for j in range(base)]+['$'],\n",
    "                                                 chars_y = [str(j) for j in range(base)])\n",
    "rnn.v_h_prev = hs[0][:, None]\n",
    "hs, ys, inputs, outputs, _, _, hzs, cs = rnn.estados(input_files = ficheros, \n",
    "                                                 output_file = output_file, \n",
    "                                                 longitud=40000,\n",
    "                                                 chars_x = [str(j) for j in range(base)]+['$'],\n",
    "                                                 chars_y = [str(j) for j in range(base)])\n",
    "\n",
    "hs.shape"
   ]
  },
  {
   "cell_type": "code",
   "execution_count": null,
   "metadata": {
    "executionInfo": {
     "elapsed": 606,
     "status": "ok",
     "timestamp": 1630324895100,
     "user": {
      "displayName": "Slyder95",
      "photoUrl": "https://lh3.googleusercontent.com/a-/AOh14GgcgHBNp9rouRzEMcfJt9BDH5r0RwhyQDEZUkmuDg=s64",
      "userId": "03886169375924980674"
     },
     "user_tz": -120
    },
    "id": "F79vYXx2cjSP"
   },
   "outputs": [],
   "source": [
    "Wxh = rnn.sess.run(rnn.Wxh)\n",
    "Whh = rnn.sess.run(rnn.Whh)\n",
    "bh = rnn.sess.run(rnn.bh)\n",
    "by = rnn.sess.run(rnn.by)\n",
    "\n",
    "mapa_con_acarreo = []\n",
    "for n in range(hidden_size):\n",
    "    mapa_n = []\n",
    "    \n",
    "    for s1 in range(base):\n",
    "        for s2 in range(base):\n",
    "            vector = np.zeros(base*2+2)[:, None]\n",
    "            vector[s1] = 1\n",
    "            vector[(base+1)+s2] = 1\n",
    "            hprev = hs[tabla_combinaciones_con_acarreo[s1][s2]]\n",
    "            h_z = np.matmul(Wxh, vector) + np.matmul(Whh, hprev[:, None]) + bh\n",
    "            mapa_n.append([s1, s2, np.tanh(h_z[n][0])])\n",
    "\n",
    "    mapa_con_acarreo.append(np.array(mapa_n))\n",
    "    \n",
    "mapa_con_acarreo = np.array(mapa_con_acarreo)\n",
    "\n",
    "mapa_sin_acarreo = []\n",
    "for n in range(hidden_size):\n",
    "    mapa_n = []\n",
    "    \n",
    "    for s1 in range(base):\n",
    "        for s2 in range(base):\n",
    "            vector = np.zeros(base*2+2)[:, None]\n",
    "            vector[s1] = 1\n",
    "            vector[(base+1)+s2] = 1\n",
    "            hprev = hs[tabla_combinaciones_sin_acarreo[s1][s2]]\n",
    "            h_z = np.matmul(Wxh, vector) + np.matmul(Whh, hprev[:, None]) + bh\n",
    "            mapa_n.append([s1, s2, np.tanh(h_z[n][0])])\n",
    "\n",
    "    mapa_sin_acarreo.append(np.array(mapa_n))\n",
    "    \n",
    "mapa_sin_acarreo = np.array(mapa_sin_acarreo)"
   ]
  },
  {
   "cell_type": "code",
   "execution_count": null,
   "metadata": {
    "colab": {
     "base_uri": "https://localhost:8080/",
     "height": 1000
    },
    "executionInfo": {
     "elapsed": 2744,
     "status": "ok",
     "timestamp": 1630324897830,
     "user": {
      "displayName": "Slyder95",
      "photoUrl": "https://lh3.googleusercontent.com/a-/AOh14GgcgHBNp9rouRzEMcfJt9BDH5r0RwhyQDEZUkmuDg=s64",
      "userId": "03886169375924980674"
     },
     "user_tz": -120
    },
    "id": "Xi615lqxcjSP",
    "outputId": "d12387c2-e108-49a0-a3c8-b12de2a80dd1"
   },
   "outputs": [],
   "source": [
    "import matplotlib.cm as cm\n",
    "import IPython.display as display\n",
    "colormap = cm.get_cmap(name='bwr', lut=1000)\n",
    "\n",
    "for neurona in range(hidden_size):\n",
    "    display.display(display.HTML('<h2>Neuron '+str(neurona)+'</h2>'))\n",
    "    colors_con_acarreo = np.zeros((base, base))\n",
    "    for punto in mapa_con_acarreo[neurona]:\n",
    "        colors_con_acarreo[int(punto[0]), int(punto[1])] = punto[2]\n",
    "        \n",
    "    colors_sin_acarreo = np.zeros((base, base))\n",
    "    for punto in mapa_sin_acarreo[neurona]:\n",
    "        colors_sin_acarreo[int(punto[0]), int(punto[1])] = punto[2]\n",
    "\n",
    "    fig = plt.figure(figsize=(8, 6))\n",
    "    plt.subplot(1,2,1)\n",
    "    ax = fig.gca()\n",
    "    pos = ax.imshow(colors_sin_acarreo, cmap=\"gray\", vmin=-1, vmax=1, origin='lower')\n",
    "    plt.grid(True)\n",
    "    plt.xlabel(\"sum 1\", size=24)\n",
    "    plt.ylabel(\"sum 2\", size=24)\n",
    "    ax.set_xticks([0, 1, 2, 3, 4, 5, 6, 7, 8, 9])\n",
    "    ax.set_yticks([0, 1, 2, 3, 4, 5, 6, 7, 8, 9])\n",
    "    ax.tick_params(axis='both', labelsize=20)\n",
    "    plt.subplot(1,2,2)\n",
    "    ax = fig.gca()\n",
    "    pos = ax.imshow(colors_con_acarreo, cmap=\"gray\", vmin=-1, vmax=1, origin='lower')\n",
    "    plt.grid(True)\n",
    "    plt.xlabel(\"sum 1\", size=24)\n",
    "    ax.set_xticks([0, 1, 2, 3, 4, 5, 6, 7, 8, 9])\n",
    "    ax.set_yticks([0, 1, 2, 3, 4, 5, 6, 7, 8, 9])\n",
    "    ax.tick_params(axis='both', labelsize=20)\n",
    "    #ax.get_ylabel().set_visible(False)\n",
    "    plt.ylabel(\"\")\n",
    "    \n",
    "    #plt.subplots_adjust(wspace=0.5)\n",
    "\n",
    "    #fig.colorbar(pos)\n",
    "\n",
    "    plt.show()"
   ]
  },
  {
   "cell_type": "code",
   "execution_count": null,
   "metadata": {
    "executionInfo": {
     "elapsed": 17,
     "status": "ok",
     "timestamp": 1630324897832,
     "user": {
      "displayName": "Slyder95",
      "photoUrl": "https://lh3.googleusercontent.com/a-/AOh14GgcgHBNp9rouRzEMcfJt9BDH5r0RwhyQDEZUkmuDg=s64",
      "userId": "03886169375924980674"
     },
     "user_tz": -120
    },
    "id": "_Y9vR_H7lAb6"
   },
   "outputs": [],
   "source": []
  }
 ],
 "metadata": {
  "colab": {
   "name": "DualRNN - Addition.ipynb",
   "provenance": [],
   "toc_visible": true
  },
  "kernelspec": {
   "display_name": "Python 3",
   "language": "python",
   "name": "python3"
  },
  "language_info": {
   "codemirror_mode": {
    "name": "ipython",
    "version": 3
   },
   "file_extension": ".py",
   "mimetype": "text/x-python",
   "name": "python",
   "nbconvert_exporter": "python",
   "pygments_lexer": "ipython3",
   "version": "3.8.5"
  }
 },
 "nbformat": 4,
 "nbformat_minor": 1
}
